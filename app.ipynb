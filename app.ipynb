{
  "nbformat": 4,
  "nbformat_minor": 0,
  "metadata": {
    "colab": {
      "provenance": []
    },
    "kernelspec": {
      "name": "python3",
      "display_name": "Python 3"
    },
    "language_info": {
      "name": "python"
    }
  },
  "cells": [
    {
      "cell_type": "markdown",
      "source": [
        "\n",
        "Insertion of data\n",
        "\n"
      ],
      "metadata": {
        "id": "ymBW1946RgKi"
      }
    },
    {
      "cell_type": "code",
      "source": [
        "all_train = \"\"\"0.44 0.68 511.14\n",
        "0.99 0.23 717.1\n",
        "0.84 0.29 607.91\n",
        "0.28 0.45 270.4\n",
        "0.07 0.83 289.88\n",
        "0.66 0.8 830.85\n",
        "0.73 0.92 1038.09\n",
        "0.57 0.43 455.19\n",
        "0.43 0.89 640.17\n",
        "0.27 0.95 511.06\n",
        "0.43 0.06 177.03\n",
        "0.87 0.91 1242.52\n",
        "0.78 0.69 891.37\n",
        "0.9 0.94 1339.72\n",
        "0.41 0.06 169.88\n",
        "0.52 0.17 276.05\n",
        "0.47 0.66 517.43\n",
        "0.65 0.43 522.25\n",
        "0.85 0.64 932.21\n",
        "0.93 0.44 851.25\n",
        "0.41 0.93 640.11\n",
        "0.36 0.43 308.68\n",
        "0.78 0.85 1046.05\n",
        "0.69 0.07 332.4\n",
        "0.04 0.52 171.85\n",
        "0.17 0.15 109.55\n",
        "0.68 0.13 361.97\n",
        "0.84 0.6 872.21\n",
        "0.38 0.4 303.7\n",
        "0.12 0.65 256.38\n",
        "0.62 0.17 341.2\n",
        "0.79 0.97 1194.63\n",
        "0.82 0.04 408.6\n",
        "0.91 0.53 895.54\n",
        "0.35 0.85 518.25\n",
        "0.57 0.69 638.75\n",
        "0.52 0.22 301.9\n",
        "0.31 0.15 163.38\n",
        "0.6 0.02 240.77\n",
        "0.99 0.91 1449.05\n",
        "0.48 0.76 609.0\n",
        "0.3 0.19 174.59\n",
        "0.58 0.62 593.45\n",
        "0.65 0.17 355.96\n",
        "0.6 0.69 671.46\n",
        "0.95 0.76 1193.7\n",
        "0.47 0.23 278.88\n",
        "0.15 0.96 411.4\n",
        "0.01 0.03 42.08\n",
        "0.26 0.23 166.19\n",
        "0.01 0.11 58.62\n",
        "0.45 0.87 642.45\n",
        "0.09 0.97 368.14\n",
        "0.96 0.25 702.78\n",
        "0.63 0.58 615.74\n",
        "0.06 0.42 143.79\n",
        "0.1 0.24 109.0\n",
        "0.26 0.62 328.28\n",
        "0.41 0.15 205.16\n",
        "0.91 0.95 1360.49\n",
        "0.83 0.64 905.83\n",
        "0.44 0.64 487.33\n",
        "0.2 0.4 202.76\n",
        "0.43 0.12 202.01\n",
        "0.21 0.22 148.87\n",
        "0.88 0.4 745.3\n",
        "0.31 0.87 503.04\n",
        "0.99 0.99 1563.82\n",
        "0.23 0.26 165.21\n",
        "0.79 0.12 438.4\n",
        "0.02 0.28 98.47\n",
        "0.89 0.48 819.63\n",
        "0.02 0.56 174.44\n",
        "0.92 0.03 483.13\n",
        "0.72 0.34 534.24\n",
        "0.3 0.99 572.31\n",
        "0.86 0.66 957.61\n",
        "0.47 0.65 518.29\n",
        "0.79 0.94 1143.49\n",
        "0.82 0.96 1211.31\n",
        "0.9 0.42 784.74\n",
        "0.19 0.62 283.7\n",
        "0.7 0.57 684.38\n",
        "0.7 0.61 719.46\n",
        "0.69 0.0 292.23\n",
        "0.98 0.3 775.68\n",
        "0.3 0.08 130.77\n",
        "0.85 0.49 801.6\n",
        "0.73 0.01 323.55\n",
        "1.0 0.23 726.9\n",
        "0.42 0.94 661.12\n",
        "0.49 0.98 771.11\n",
        "0.89 0.68 1016.14\n",
        "0.22 0.46 237.69\n",
        "0.34 0.5 325.89\n",
        "0.99 0.13 636.22\n",
        "0.28 0.46 272.12\n",
        "0.87 0.36 696.65\n",
        "0.23 0.87 434.53\n",
        "0.77 0.36 593.86\"\"\"\n"
      ],
      "metadata": {
        "id": "B7RTtLbURjv1"
      },
      "execution_count": 77,
      "outputs": []
    },
    {
      "cell_type": "markdown",
      "source": [
        "#Importing libraries"
      ],
      "metadata": {
        "id": "oe26yRr-h6Ww"
      }
    },
    {
      "cell_type": "code",
      "source": [
        "from sklearn.preprocessing import PolynomialFeatures\n",
        "from sklearn.linear_model import LinearRegression\n",
        "import numpy as np\n",
        "import plotly.express as px\n",
        "import pandas as pd"
      ],
      "metadata": {
        "id": "Y8RXZ3vYh86T"
      },
      "execution_count": 78,
      "outputs": []
    },
    {
      "cell_type": "markdown",
      "source": [
        "Train data cleaning"
      ],
      "metadata": {
        "id": "yFaLyJb6RyRD"
      }
    },
    {
      "cell_type": "code",
      "source": [
        "all_train= all_train.replace(' ',',')\n",
        "all_train= all_train.replace('\\n',',')\n",
        "all_train = all_train.split(',')\n",
        "arr = np.array(all_train)\n",
        "arr = arr.reshape(100,3)\n",
        "X = arr[:,:2]\n",
        "Y = arr[:,2]\n",
        "X = np.array(X, dtype=float)\n",
        "Y = np.array(Y, dtype=float)"
      ],
      "metadata": {
        "id": "Uoh5BrplRylb"
      },
      "execution_count": 79,
      "outputs": []
    },
    {
      "cell_type": "markdown",
      "source": [
        "Test data cleaning\n"
      ],
      "metadata": {
        "id": "yJe59fDeSIsa"
      }
    },
    {
      "cell_type": "code",
      "source": [
        "all_test=\"\"\"0.05 0.54\n",
        "0.91 0.91\n",
        "0.31 0.76\n",
        "0.51 0.31\"\"\"\n",
        "all_test= all_test.replace(' ',',')\n",
        "all_test= all_test.replace('\\n',',')\n",
        "all_test = all_test.split(',')\n",
        "arr = np.array(all_test)\n",
        "arr = arr.reshape(4,2)\n",
        "X_test = arr\n",
        "X_test = np.array(X_test, dtype=float)"
      ],
      "metadata": {
        "id": "47IZL0cqSMCC"
      },
      "execution_count": 80,
      "outputs": []
    },
    {
      "cell_type": "markdown",
      "source": [
        "#Model configuration\n",
        "####Ploynomial features\n"
      ],
      "metadata": {
        "id": "ExOHRHdWSN3D"
      }
    },
    {
      "cell_type": "code",
      "source": [
        "poly = PolynomialFeatures(degree=3)\n",
        "poly_features = poly.fit_transform(X.reshape(-1,2))"
      ],
      "metadata": {
        "id": "XoE6k9ZzSRFR"
      },
      "execution_count": 81,
      "outputs": []
    },
    {
      "cell_type": "markdown",
      "source": [
        "\n",
        "####Polynomial regression model\n",
        "\n",
        "\n"
      ],
      "metadata": {
        "id": "6DOgtqZtSfOO"
      }
    },
    {
      "cell_type": "code",
      "source": [
        "poly_reg_model = LinearRegression()\n",
        "poly_reg_model.fit(poly_features,Y.reshape(-1,1))"
      ],
      "metadata": {
        "colab": {
          "base_uri": "https://localhost:8080/"
        },
        "id": "y9jWiHWTShcg",
        "outputId": "1eb0d03c-85c9-49e3-8b80-7613f508193c"
      },
      "execution_count": 82,
      "outputs": [
        {
          "output_type": "execute_result",
          "data": {
            "text/plain": [
              "LinearRegression()"
            ]
          },
          "metadata": {},
          "execution_count": 82
        }
      ]
    },
    {
      "cell_type": "markdown",
      "source": [
        "#Test"
      ],
      "metadata": {
        "id": "cnP7wYUYSwgo"
      }
    },
    {
      "cell_type": "code",
      "source": [
        "poly_features = poly.fit_transform(X_test.reshape(-1, 2))\n",
        "y_pred = poly_reg_model.predict(poly_features)\n",
        "y_pred = np.around(y_pred, decimals=2)\n",
        "for i in y_pred:\n",
        "    print(i[0])"
      ],
      "metadata": {
        "colab": {
          "base_uri": "https://localhost:8080/"
        },
        "id": "WFB75DKJSwwN",
        "outputId": "2ad33882-09c3-4380-b3dc-9120d250be3c"
      },
      "execution_count": 83,
      "outputs": [
        {
          "output_type": "stream",
          "name": "stdout",
          "text": [
            "180.38\n",
            "1312.07\n",
            "440.13\n",
            "343.72\n"
          ]
        }
      ]
    },
    {
      "cell_type": "markdown",
      "source": [
        "#Visualization"
      ],
      "metadata": {
        "id": "ByPn8ErpS3ah"
      }
    },
    {
      "cell_type": "code",
      "source": [
        "\n",
        "charar1 = np.repeat(1, 100)\n",
        "charar2 = np.repeat(0, 4)\n",
        "\n",
        "\n",
        "df1 = np.array([X[:,0], X[:,1], Y.reshape(-1),charar1]).T\n",
        "df2 = np.array([X_test[:,0], X_test[:,1], y_pred.reshape(-1),charar2]).T\n",
        "\n",
        "df = np.concatenate((df1,df2), axis=0)\n",
        "\n",
        "df = pd.DataFrame(df, columns=['Feature 1', 'Feature 2', 'Price', 'Train/Test'])\n",
        "\n",
        "fig = px.scatter_3d(df, x='Feature 1', y='Feature 2', z='Price', color='Train/Test')\n",
        "\n",
        "fig.update_layout(title_text=\"Visualization Results\",\n",
        "                  title_font_size=30)\n",
        "fig.show()"
      ],
      "metadata": {
        "colab": {
          "base_uri": "https://localhost:8080/",
          "height": 542
        },
        "id": "4u7P1L72S4zw",
        "outputId": "ce375f2e-7ffc-4f0f-9d85-e012d366c016"
      },
      "execution_count": 85,
      "outputs": [
        {
          "output_type": "display_data",
          "data": {
            "text/html": [
              "<html>\n",
              "<head><meta charset=\"utf-8\" /></head>\n",
              "<body>\n",
              "    <div>            <script src=\"https://cdnjs.cloudflare.com/ajax/libs/mathjax/2.7.5/MathJax.js?config=TeX-AMS-MML_SVG\"></script><script type=\"text/javascript\">if (window.MathJax) {MathJax.Hub.Config({SVG: {font: \"STIX-Web\"}});}</script>                <script type=\"text/javascript\">window.PlotlyConfig = {MathJaxConfig: 'local'};</script>\n",
              "        <script src=\"https://cdn.plot.ly/plotly-2.8.3.min.js\"></script>                <div id=\"1c0701e1-a818-4956-bcd8-afe3f3949c92\" class=\"plotly-graph-div\" style=\"height:525px; width:100%;\"></div>            <script type=\"text/javascript\">                                    window.PLOTLYENV=window.PLOTLYENV || {};                                    if (document.getElementById(\"1c0701e1-a818-4956-bcd8-afe3f3949c92\")) {                    Plotly.newPlot(                        \"1c0701e1-a818-4956-bcd8-afe3f3949c92\",                        [{\"hovertemplate\":\"Feature 1=%{x}<br>Feature 2=%{y}<br>Price=%{z}<br>Train/Test=%{marker.color}<extra></extra>\",\"legendgroup\":\"\",\"marker\":{\"color\":[1.0,1.0,1.0,1.0,1.0,1.0,1.0,1.0,1.0,1.0,1.0,1.0,1.0,1.0,1.0,1.0,1.0,1.0,1.0,1.0,1.0,1.0,1.0,1.0,1.0,1.0,1.0,1.0,1.0,1.0,1.0,1.0,1.0,1.0,1.0,1.0,1.0,1.0,1.0,1.0,1.0,1.0,1.0,1.0,1.0,1.0,1.0,1.0,1.0,1.0,1.0,1.0,1.0,1.0,1.0,1.0,1.0,1.0,1.0,1.0,1.0,1.0,1.0,1.0,1.0,1.0,1.0,1.0,1.0,1.0,1.0,1.0,1.0,1.0,1.0,1.0,1.0,1.0,1.0,1.0,1.0,1.0,1.0,1.0,1.0,1.0,1.0,1.0,1.0,1.0,1.0,1.0,1.0,1.0,1.0,1.0,1.0,1.0,1.0,1.0,0.0,0.0,0.0,0.0],\"coloraxis\":\"coloraxis\",\"symbol\":\"circle\"},\"mode\":\"markers\",\"name\":\"\",\"scene\":\"scene\",\"showlegend\":false,\"x\":[0.44,0.99,0.84,0.28,0.07,0.66,0.73,0.57,0.43,0.27,0.43,0.87,0.78,0.9,0.41,0.52,0.47,0.65,0.85,0.93,0.41,0.36,0.78,0.69,0.04,0.17,0.68,0.84,0.38,0.12,0.62,0.79,0.82,0.91,0.35,0.57,0.52,0.31,0.6,0.99,0.48,0.3,0.58,0.65,0.6,0.95,0.47,0.15,0.01,0.26,0.01,0.45,0.09,0.96,0.63,0.06,0.1,0.26,0.41,0.91,0.83,0.44,0.2,0.43,0.21,0.88,0.31,0.99,0.23,0.79,0.02,0.89,0.02,0.92,0.72,0.3,0.86,0.47,0.79,0.82,0.9,0.19,0.7,0.7,0.69,0.98,0.3,0.85,0.73,1.0,0.42,0.49,0.89,0.22,0.34,0.99,0.28,0.87,0.23,0.77,0.05,0.91,0.31,0.51],\"y\":[0.68,0.23,0.29,0.45,0.83,0.8,0.92,0.43,0.89,0.95,0.06,0.91,0.69,0.94,0.06,0.17,0.66,0.43,0.64,0.44,0.93,0.43,0.85,0.07,0.52,0.15,0.13,0.6,0.4,0.65,0.17,0.97,0.04,0.53,0.85,0.69,0.22,0.15,0.02,0.91,0.76,0.19,0.62,0.17,0.69,0.76,0.23,0.96,0.03,0.23,0.11,0.87,0.97,0.25,0.58,0.42,0.24,0.62,0.15,0.95,0.64,0.64,0.4,0.12,0.22,0.4,0.87,0.99,0.26,0.12,0.28,0.48,0.56,0.03,0.34,0.99,0.66,0.65,0.94,0.96,0.42,0.62,0.57,0.61,0.0,0.3,0.08,0.49,0.01,0.23,0.94,0.98,0.68,0.46,0.5,0.13,0.46,0.36,0.87,0.36,0.54,0.91,0.76,0.31],\"z\":[511.14,717.1,607.91,270.4,289.88,830.85,1038.09,455.19,640.17,511.06,177.03,1242.52,891.37,1339.72,169.88,276.05,517.43,522.25,932.21,851.25,640.11,308.68,1046.05,332.4,171.85,109.55,361.97,872.21,303.7,256.38,341.2,1194.63,408.6,895.54,518.25,638.75,301.9,163.38,240.77,1449.05,609.0,174.59,593.45,355.96,671.46,1193.7,278.88,411.4,42.08,166.19,58.62,642.45,368.14,702.78,615.74,143.79,109.0,328.28,205.16,1360.49,905.83,487.33,202.76,202.01,148.87,745.3,503.04,1563.82,165.21,438.4,98.47,819.63,174.44,483.13,534.24,572.31,957.61,518.29,1143.49,1211.31,784.74,283.7,684.38,719.46,292.23,775.68,130.77,801.6,323.55,726.9,661.12,771.11,1016.14,237.69,325.89,636.22,272.12,696.65,434.53,593.86,180.38,1312.07,440.13,343.72],\"type\":\"scatter3d\"}],                        {\"template\":{\"data\":{\"bar\":[{\"error_x\":{\"color\":\"#2a3f5f\"},\"error_y\":{\"color\":\"#2a3f5f\"},\"marker\":{\"line\":{\"color\":\"#E5ECF6\",\"width\":0.5},\"pattern\":{\"fillmode\":\"overlay\",\"size\":10,\"solidity\":0.2}},\"type\":\"bar\"}],\"barpolar\":[{\"marker\":{\"line\":{\"color\":\"#E5ECF6\",\"width\":0.5},\"pattern\":{\"fillmode\":\"overlay\",\"size\":10,\"solidity\":0.2}},\"type\":\"barpolar\"}],\"carpet\":[{\"aaxis\":{\"endlinecolor\":\"#2a3f5f\",\"gridcolor\":\"white\",\"linecolor\":\"white\",\"minorgridcolor\":\"white\",\"startlinecolor\":\"#2a3f5f\"},\"baxis\":{\"endlinecolor\":\"#2a3f5f\",\"gridcolor\":\"white\",\"linecolor\":\"white\",\"minorgridcolor\":\"white\",\"startlinecolor\":\"#2a3f5f\"},\"type\":\"carpet\"}],\"choropleth\":[{\"colorbar\":{\"outlinewidth\":0,\"ticks\":\"\"},\"type\":\"choropleth\"}],\"contour\":[{\"colorbar\":{\"outlinewidth\":0,\"ticks\":\"\"},\"colorscale\":[[0.0,\"#0d0887\"],[0.1111111111111111,\"#46039f\"],[0.2222222222222222,\"#7201a8\"],[0.3333333333333333,\"#9c179e\"],[0.4444444444444444,\"#bd3786\"],[0.5555555555555556,\"#d8576b\"],[0.6666666666666666,\"#ed7953\"],[0.7777777777777778,\"#fb9f3a\"],[0.8888888888888888,\"#fdca26\"],[1.0,\"#f0f921\"]],\"type\":\"contour\"}],\"contourcarpet\":[{\"colorbar\":{\"outlinewidth\":0,\"ticks\":\"\"},\"type\":\"contourcarpet\"}],\"heatmap\":[{\"colorbar\":{\"outlinewidth\":0,\"ticks\":\"\"},\"colorscale\":[[0.0,\"#0d0887\"],[0.1111111111111111,\"#46039f\"],[0.2222222222222222,\"#7201a8\"],[0.3333333333333333,\"#9c179e\"],[0.4444444444444444,\"#bd3786\"],[0.5555555555555556,\"#d8576b\"],[0.6666666666666666,\"#ed7953\"],[0.7777777777777778,\"#fb9f3a\"],[0.8888888888888888,\"#fdca26\"],[1.0,\"#f0f921\"]],\"type\":\"heatmap\"}],\"heatmapgl\":[{\"colorbar\":{\"outlinewidth\":0,\"ticks\":\"\"},\"colorscale\":[[0.0,\"#0d0887\"],[0.1111111111111111,\"#46039f\"],[0.2222222222222222,\"#7201a8\"],[0.3333333333333333,\"#9c179e\"],[0.4444444444444444,\"#bd3786\"],[0.5555555555555556,\"#d8576b\"],[0.6666666666666666,\"#ed7953\"],[0.7777777777777778,\"#fb9f3a\"],[0.8888888888888888,\"#fdca26\"],[1.0,\"#f0f921\"]],\"type\":\"heatmapgl\"}],\"histogram\":[{\"marker\":{\"pattern\":{\"fillmode\":\"overlay\",\"size\":10,\"solidity\":0.2}},\"type\":\"histogram\"}],\"histogram2d\":[{\"colorbar\":{\"outlinewidth\":0,\"ticks\":\"\"},\"colorscale\":[[0.0,\"#0d0887\"],[0.1111111111111111,\"#46039f\"],[0.2222222222222222,\"#7201a8\"],[0.3333333333333333,\"#9c179e\"],[0.4444444444444444,\"#bd3786\"],[0.5555555555555556,\"#d8576b\"],[0.6666666666666666,\"#ed7953\"],[0.7777777777777778,\"#fb9f3a\"],[0.8888888888888888,\"#fdca26\"],[1.0,\"#f0f921\"]],\"type\":\"histogram2d\"}],\"histogram2dcontour\":[{\"colorbar\":{\"outlinewidth\":0,\"ticks\":\"\"},\"colorscale\":[[0.0,\"#0d0887\"],[0.1111111111111111,\"#46039f\"],[0.2222222222222222,\"#7201a8\"],[0.3333333333333333,\"#9c179e\"],[0.4444444444444444,\"#bd3786\"],[0.5555555555555556,\"#d8576b\"],[0.6666666666666666,\"#ed7953\"],[0.7777777777777778,\"#fb9f3a\"],[0.8888888888888888,\"#fdca26\"],[1.0,\"#f0f921\"]],\"type\":\"histogram2dcontour\"}],\"mesh3d\":[{\"colorbar\":{\"outlinewidth\":0,\"ticks\":\"\"},\"type\":\"mesh3d\"}],\"parcoords\":[{\"line\":{\"colorbar\":{\"outlinewidth\":0,\"ticks\":\"\"}},\"type\":\"parcoords\"}],\"pie\":[{\"automargin\":true,\"type\":\"pie\"}],\"scatter\":[{\"marker\":{\"colorbar\":{\"outlinewidth\":0,\"ticks\":\"\"}},\"type\":\"scatter\"}],\"scatter3d\":[{\"line\":{\"colorbar\":{\"outlinewidth\":0,\"ticks\":\"\"}},\"marker\":{\"colorbar\":{\"outlinewidth\":0,\"ticks\":\"\"}},\"type\":\"scatter3d\"}],\"scattercarpet\":[{\"marker\":{\"colorbar\":{\"outlinewidth\":0,\"ticks\":\"\"}},\"type\":\"scattercarpet\"}],\"scattergeo\":[{\"marker\":{\"colorbar\":{\"outlinewidth\":0,\"ticks\":\"\"}},\"type\":\"scattergeo\"}],\"scattergl\":[{\"marker\":{\"colorbar\":{\"outlinewidth\":0,\"ticks\":\"\"}},\"type\":\"scattergl\"}],\"scattermapbox\":[{\"marker\":{\"colorbar\":{\"outlinewidth\":0,\"ticks\":\"\"}},\"type\":\"scattermapbox\"}],\"scatterpolar\":[{\"marker\":{\"colorbar\":{\"outlinewidth\":0,\"ticks\":\"\"}},\"type\":\"scatterpolar\"}],\"scatterpolargl\":[{\"marker\":{\"colorbar\":{\"outlinewidth\":0,\"ticks\":\"\"}},\"type\":\"scatterpolargl\"}],\"scatterternary\":[{\"marker\":{\"colorbar\":{\"outlinewidth\":0,\"ticks\":\"\"}},\"type\":\"scatterternary\"}],\"surface\":[{\"colorbar\":{\"outlinewidth\":0,\"ticks\":\"\"},\"colorscale\":[[0.0,\"#0d0887\"],[0.1111111111111111,\"#46039f\"],[0.2222222222222222,\"#7201a8\"],[0.3333333333333333,\"#9c179e\"],[0.4444444444444444,\"#bd3786\"],[0.5555555555555556,\"#d8576b\"],[0.6666666666666666,\"#ed7953\"],[0.7777777777777778,\"#fb9f3a\"],[0.8888888888888888,\"#fdca26\"],[1.0,\"#f0f921\"]],\"type\":\"surface\"}],\"table\":[{\"cells\":{\"fill\":{\"color\":\"#EBF0F8\"},\"line\":{\"color\":\"white\"}},\"header\":{\"fill\":{\"color\":\"#C8D4E3\"},\"line\":{\"color\":\"white\"}},\"type\":\"table\"}]},\"layout\":{\"annotationdefaults\":{\"arrowcolor\":\"#2a3f5f\",\"arrowhead\":0,\"arrowwidth\":1},\"autotypenumbers\":\"strict\",\"coloraxis\":{\"colorbar\":{\"outlinewidth\":0,\"ticks\":\"\"}},\"colorscale\":{\"diverging\":[[0,\"#8e0152\"],[0.1,\"#c51b7d\"],[0.2,\"#de77ae\"],[0.3,\"#f1b6da\"],[0.4,\"#fde0ef\"],[0.5,\"#f7f7f7\"],[0.6,\"#e6f5d0\"],[0.7,\"#b8e186\"],[0.8,\"#7fbc41\"],[0.9,\"#4d9221\"],[1,\"#276419\"]],\"sequential\":[[0.0,\"#0d0887\"],[0.1111111111111111,\"#46039f\"],[0.2222222222222222,\"#7201a8\"],[0.3333333333333333,\"#9c179e\"],[0.4444444444444444,\"#bd3786\"],[0.5555555555555556,\"#d8576b\"],[0.6666666666666666,\"#ed7953\"],[0.7777777777777778,\"#fb9f3a\"],[0.8888888888888888,\"#fdca26\"],[1.0,\"#f0f921\"]],\"sequentialminus\":[[0.0,\"#0d0887\"],[0.1111111111111111,\"#46039f\"],[0.2222222222222222,\"#7201a8\"],[0.3333333333333333,\"#9c179e\"],[0.4444444444444444,\"#bd3786\"],[0.5555555555555556,\"#d8576b\"],[0.6666666666666666,\"#ed7953\"],[0.7777777777777778,\"#fb9f3a\"],[0.8888888888888888,\"#fdca26\"],[1.0,\"#f0f921\"]]},\"colorway\":[\"#636efa\",\"#EF553B\",\"#00cc96\",\"#ab63fa\",\"#FFA15A\",\"#19d3f3\",\"#FF6692\",\"#B6E880\",\"#FF97FF\",\"#FECB52\"],\"font\":{\"color\":\"#2a3f5f\"},\"geo\":{\"bgcolor\":\"white\",\"lakecolor\":\"white\",\"landcolor\":\"#E5ECF6\",\"showlakes\":true,\"showland\":true,\"subunitcolor\":\"white\"},\"hoverlabel\":{\"align\":\"left\"},\"hovermode\":\"closest\",\"mapbox\":{\"style\":\"light\"},\"paper_bgcolor\":\"white\",\"plot_bgcolor\":\"#E5ECF6\",\"polar\":{\"angularaxis\":{\"gridcolor\":\"white\",\"linecolor\":\"white\",\"ticks\":\"\"},\"bgcolor\":\"#E5ECF6\",\"radialaxis\":{\"gridcolor\":\"white\",\"linecolor\":\"white\",\"ticks\":\"\"}},\"scene\":{\"xaxis\":{\"backgroundcolor\":\"#E5ECF6\",\"gridcolor\":\"white\",\"gridwidth\":2,\"linecolor\":\"white\",\"showbackground\":true,\"ticks\":\"\",\"zerolinecolor\":\"white\"},\"yaxis\":{\"backgroundcolor\":\"#E5ECF6\",\"gridcolor\":\"white\",\"gridwidth\":2,\"linecolor\":\"white\",\"showbackground\":true,\"ticks\":\"\",\"zerolinecolor\":\"white\"},\"zaxis\":{\"backgroundcolor\":\"#E5ECF6\",\"gridcolor\":\"white\",\"gridwidth\":2,\"linecolor\":\"white\",\"showbackground\":true,\"ticks\":\"\",\"zerolinecolor\":\"white\"}},\"shapedefaults\":{\"line\":{\"color\":\"#2a3f5f\"}},\"ternary\":{\"aaxis\":{\"gridcolor\":\"white\",\"linecolor\":\"white\",\"ticks\":\"\"},\"baxis\":{\"gridcolor\":\"white\",\"linecolor\":\"white\",\"ticks\":\"\"},\"bgcolor\":\"#E5ECF6\",\"caxis\":{\"gridcolor\":\"white\",\"linecolor\":\"white\",\"ticks\":\"\"}},\"title\":{\"x\":0.05},\"xaxis\":{\"automargin\":true,\"gridcolor\":\"white\",\"linecolor\":\"white\",\"ticks\":\"\",\"title\":{\"standoff\":15},\"zerolinecolor\":\"white\",\"zerolinewidth\":2},\"yaxis\":{\"automargin\":true,\"gridcolor\":\"white\",\"linecolor\":\"white\",\"ticks\":\"\",\"title\":{\"standoff\":15},\"zerolinecolor\":\"white\",\"zerolinewidth\":2}}},\"scene\":{\"domain\":{\"x\":[0.0,1.0],\"y\":[0.0,1.0]},\"xaxis\":{\"title\":{\"text\":\"Feature 1\"}},\"yaxis\":{\"title\":{\"text\":\"Feature 2\"}},\"zaxis\":{\"title\":{\"text\":\"Price\"}}},\"coloraxis\":{\"colorbar\":{\"title\":{\"text\":\"Train/Test\"}},\"colorscale\":[[0.0,\"#0d0887\"],[0.1111111111111111,\"#46039f\"],[0.2222222222222222,\"#7201a8\"],[0.3333333333333333,\"#9c179e\"],[0.4444444444444444,\"#bd3786\"],[0.5555555555555556,\"#d8576b\"],[0.6666666666666666,\"#ed7953\"],[0.7777777777777778,\"#fb9f3a\"],[0.8888888888888888,\"#fdca26\"],[1.0,\"#f0f921\"]]},\"legend\":{\"tracegroupgap\":0},\"margin\":{\"t\":60},\"title\":{\"font\":{\"size\":30},\"text\":\"Visualization Results\"}},                        {\"responsive\": true}                    ).then(function(){\n",
              "                            \n",
              "var gd = document.getElementById('1c0701e1-a818-4956-bcd8-afe3f3949c92');\n",
              "var x = new MutationObserver(function (mutations, observer) {{\n",
              "        var display = window.getComputedStyle(gd).display;\n",
              "        if (!display || display === 'none') {{\n",
              "            console.log([gd, 'removed!']);\n",
              "            Plotly.purge(gd);\n",
              "            observer.disconnect();\n",
              "        }}\n",
              "}});\n",
              "\n",
              "// Listen for the removal of the full notebook cells\n",
              "var notebookContainer = gd.closest('#notebook-container');\n",
              "if (notebookContainer) {{\n",
              "    x.observe(notebookContainer, {childList: true});\n",
              "}}\n",
              "\n",
              "// Listen for the clearing of the current output cell\n",
              "var outputEl = gd.closest('.output');\n",
              "if (outputEl) {{\n",
              "    x.observe(outputEl, {childList: true});\n",
              "}}\n",
              "\n",
              "                        })                };                            </script>        </div>\n",
              "</body>\n",
              "</html>"
            ]
          },
          "metadata": {}
        }
      ]
    }
  ]
}